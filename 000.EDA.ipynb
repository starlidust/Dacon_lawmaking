{
 "cells": [
  {
   "cell_type": "code",
   "execution_count": 1,
   "metadata": {
    "ExecuteTime": {
     "end_time": "2020-12-04T07:41:39.270700Z",
     "start_time": "2020-12-04T07:41:39.267699Z"
    }
   },
   "outputs": [],
   "source": [
    "import pandas as pd\n",
    "import matplotlib.pyplot as plt\n",
    "import matplotlib as mpl\n",
    "import seaborn as sns\n",
    "import os\n",
    "from glob import glob as glob\n",
    "\n",
    "from scipy.stats import mode\n",
    "import re\n",
    "#그래프 설정\n",
    "plt.rc('font',family='Malgun Gothic')\n",
    "plt.rcParams['axes.unicode_minus'] = False"
   ]
  },
  {
   "cell_type": "markdown",
   "metadata": {},
   "source": [
    "## data load"
   ]
  },
  {
   "cell_type": "code",
   "execution_count": 2,
   "metadata": {
    "ExecuteTime": {
     "end_time": "2020-12-04T07:41:39.277701Z",
     "start_time": "2020-12-04T07:41:39.272700Z"
    }
   },
   "outputs": [
    {
     "data": {
      "text/plain": [
       "['new_people.csv', 'open.zip', 'process.csv', 'suggest.csv']"
      ]
     },
     "execution_count": 2,
     "metadata": {},
     "output_type": "execute_result"
    }
   ],
   "source": [
    "os.listdir('./data/')"
   ]
  },
  {
   "cell_type": "code",
   "execution_count": 3,
   "metadata": {
    "ExecuteTime": {
     "end_time": "2020-12-04T07:41:40.147817Z",
     "start_time": "2020-12-04T07:41:39.278701Z"
    }
   },
   "outputs": [
    {
     "name": "stderr",
     "output_type": "stream",
     "text": [
      "C:\\Users\\User\\Anaconda3\\lib\\site-packages\\IPython\\core\\interactiveshell.py:2785: DtypeWarning: Columns (2,5,17) have mixed types.Specify dtype option on import or set low_memory=False.\n",
      "  interactivity=interactivity, compiler=compiler, result=result)\n"
     ]
    }
   ],
   "source": [
    "people = pd.read_csv('./data/new_people.csv',encoding = 'cp949')\n",
    "suggest = pd.read_csv('./data/suggest.csv')\n",
    "process = pd.read_csv('./data/process.csv')"
   ]
  },
  {
   "cell_type": "code",
   "execution_count": 4,
   "metadata": {
    "ExecuteTime": {
     "end_time": "2020-12-04T07:41:40.152818Z",
     "start_time": "2020-12-04T07:41:40.148818Z"
    }
   },
   "outputs": [
    {
     "data": {
      "text/plain": [
       "((5605, 16), (62658, 12), (68530, 28))"
      ]
     },
     "execution_count": 4,
     "metadata": {},
     "output_type": "execute_result"
    }
   ],
   "source": [
    "pd.options.display.max_columns = 30\n",
    "people.shape, suggest.shape, process.shape"
   ]
  },
  {
   "cell_type": "markdown",
   "metadata": {},
   "source": [
    "## 변수정리 및 생성 2020-12-04 16:04:35 "
   ]
  },
  {
   "cell_type": "markdown",
   "metadata": {},
   "source": [
    "### People"
   ]
  },
  {
   "cell_type": "code",
   "execution_count": 5,
   "metadata": {
    "ExecuteTime": {
     "end_time": "2020-12-04T07:41:40.159821Z",
     "start_time": "2020-12-04T07:41:40.154819Z"
    }
   },
   "outputs": [],
   "source": [
    "#위원의 출생년\n",
    "people['BIRTH_YEAR'] = people['BIRTH'].apply(lambda x :x[:4])"
   ]
  },
  {
   "cell_type": "code",
   "execution_count": 16,
   "metadata": {
    "ExecuteTime": {
     "end_time": "2020-12-04T07:44:11.438423Z",
     "start_time": "2020-12-04T07:44:11.410417Z"
    }
   },
   "outputs": [],
   "source": [
    "#역대정당정보 가져오기 (당명칭 확인후 정확한 클리닝 필요)\n",
    "datas = []\n",
    "partys = []\n",
    "for data in people['DAE']:\n",
    "    if '\\r\\n' in data :\n",
    "        data = data.split('\\r\\n')\n",
    "        data = list(filter(lambda x: x != '',data))\n",
    "        p_party = [] #개인의 정당\n",
    "        for el in data:\n",
    "            el = el.replace('\\t','')\n",
    "            if len(el)>1 :\n",
    "                try :\n",
    "                    if ')' in el:\n",
    "                        party = el.split(')')[1]\n",
    "                    else:\n",
    "                        party = el.split('-')[1]\n",
    "                    party = party.replace(' ','')\n",
    "                    p_party.append(party)\n",
    "                except:\n",
    "                    p_party.append('') \n",
    "                \n",
    "    datas.append(data)\n",
    "    partys.append(p_party)\n",
    "people['PARTYS']= partys"
   ]
  },
  {
   "cell_type": "code",
   "execution_count": 28,
   "metadata": {
    "ExecuteTime": {
     "end_time": "2020-12-04T07:50:11.526451Z",
     "start_time": "2020-12-04T07:50:11.522451Z"
    }
   },
   "outputs": [],
   "source": [
    "#당시의 정당\n",
    "people[\"NOW_PARTY\"] = people['PARTYS'].apply(lambda x :x[-1])\n",
    "\n",
    "#참여했던 정당 수 \n",
    "people['NUM_PARTY'] = people['PARTYS'].apply(lambda x : len(np.unique(x)))"
   ]
  },
  {
   "cell_type": "code",
   "execution_count": 34,
   "metadata": {
    "ExecuteTime": {
     "end_time": "2020-12-04T07:53:54.385817Z",
     "start_time": "2020-12-04T07:53:54.378815Z"
    }
   },
   "outputs": [
    {
     "name": "stdout",
     "output_type": "stream",
     "text": [
      "원본데이터:5605\n",
      "중복제거:3066\n",
      "차이:2539\n"
     ]
    }
   ],
   "source": [
    "uni_people = people.drop_duplicates(['NAME','BIRTH'])\n",
    "origin = people.shape[0]\n",
    "uni_num = uni_people.shape[0]\n",
    "print(f'원본데이터:{origin}\\n중복제거:{uni_num}\\n차이:{origin-uni_num}')"
   ]
  },
  {
   "cell_type": "code",
   "execution_count": 41,
   "metadata": {
    "ExecuteTime": {
     "end_time": "2020-12-04T07:56:13.193096Z",
     "start_time": "2020-12-04T07:56:13.188095Z"
    }
   },
   "outputs": [
    {
     "name": "stdout",
     "output_type": "stream",
     "text": [
      "중복제거:3066\n",
      "고유이름:2923\n",
      "차이:143\n"
     ]
    }
   ],
   "source": [
    "#약 143명은 중복이름\n",
    "uni_name = uni_people[\"NAME\"].nunique()\n",
    "print(f'중복제거:{uni_num}\\n고유이름:{uni_name}\\n차이:{uni_num-uni_name}')"
   ]
  },
  {
   "cell_type": "markdown",
   "metadata": {},
   "source": [
    "#### 동명이인\n",
    "* '대'로 표기하기엔 동일한 대에서 동명이인 발생 -> 해결 필요할 것으로 추정  \n",
    "sample1 : 이종성 (21,16,11,2)   \n",
    "sample2 : 김영구 (16,16,5)   "
   ]
  },
  {
   "cell_type": "code",
   "execution_count": 56,
   "metadata": {
    "ExecuteTime": {
     "end_time": "2020-12-04T08:02:08.953567Z",
     "start_time": "2020-12-04T08:02:08.946565Z"
    }
   },
   "outputs": [
    {
     "data": {
      "text/plain": [
       "189    21\n",
       "Name: DAESU, dtype: int64"
      ]
     },
     "execution_count": 56,
     "metadata": {},
     "output_type": "execute_result"
    }
   ],
   "source": [
    "#sample1 : 이종성 (21,16,11, 2)\n",
    "#sample2 : 김영구 (16,16,5)\n",
    "sample_name = uni_people['NAME'].value_counts().index[3]\n",
    "sample_name = '이명수' #제안이 가장 많았던 의원(동명이인이없다)\n",
    "uni_people[uni_people['NAME'] == sample_name]['DAESU']"
   ]
  },
  {
   "cell_type": "code",
   "execution_count": 55,
   "metadata": {
    "ExecuteTime": {
     "end_time": "2020-12-04T07:59:17.066088Z",
     "start_time": "2020-12-04T07:59:17.052085Z"
    }
   },
   "outputs": [
    {
     "data": {
      "text/html": [
       "<div>\n",
       "<style scoped>\n",
       "    .dataframe tbody tr th:only-of-type {\n",
       "        vertical-align: middle;\n",
       "    }\n",
       "\n",
       "    .dataframe tbody tr th {\n",
       "        vertical-align: top;\n",
       "    }\n",
       "\n",
       "    .dataframe thead th {\n",
       "        text-align: right;\n",
       "    }\n",
       "</style>\n",
       "<table border=\"1\" class=\"dataframe\">\n",
       "  <thead>\n",
       "    <tr style=\"text-align: right;\">\n",
       "      <th></th>\n",
       "      <th>DAESU</th>\n",
       "      <th>DAE</th>\n",
       "      <th>DAE_NM</th>\n",
       "      <th>NAME</th>\n",
       "      <th>NAME_HAN</th>\n",
       "      <th>JA</th>\n",
       "      <th>HO</th>\n",
       "      <th>BIRTH</th>\n",
       "      <th>BON</th>\n",
       "      <th>POSI</th>\n",
       "      <th>HAK</th>\n",
       "      <th>HOBBY</th>\n",
       "      <th>BOOK</th>\n",
       "      <th>SANG</th>\n",
       "      <th>DEAD</th>\n",
       "      <th>URL</th>\n",
       "      <th>BIRTH_YEAR</th>\n",
       "      <th>PARTYS</th>\n",
       "      <th>NOW_PARTY</th>\n",
       "      <th>NUM_PARTY</th>\n",
       "    </tr>\n",
       "  </thead>\n",
       "  <tbody>\n",
       "    <tr>\n",
       "      <th>1612</th>\n",
       "      <td>16</td>\n",
       "      <td>제11대 국회의원(정당_17)정당_50\\r\\n제12대 국회의원(정당_17)정당_50...</td>\n",
       "      <td>16대의원</td>\n",
       "      <td>김영구</td>\n",
       "      <td>金榮龜</td>\n",
       "      <td>NaN</td>\n",
       "      <td>NaN</td>\n",
       "      <td>1940년 01월 12일</td>\n",
       "      <td>NaN</td>\n",
       "      <td>NaN</td>\n",
       "      <td>동국대학교경제과졸\\r\\n공화당청년분과위원장\\r\\n대한체육회역도연맹부회장\\r\\n4.1...</td>\n",
       "      <td>NaN</td>\n",
       "      <td>NaN</td>\n",
       "      <td>NaN</td>\n",
       "      <td>년   월   일</td>\n",
       "      <td>http://www.rokps.or.kr/profile/profile_view.as...</td>\n",
       "      <td>1940</td>\n",
       "      <td>[정당_50, 정당_50, 정당_50, 정당_28, 정당_31, 정당_34]</td>\n",
       "      <td>정당_34</td>\n",
       "      <td>4</td>\n",
       "    </tr>\n",
       "    <tr>\n",
       "      <th>1613</th>\n",
       "      <td>16</td>\n",
       "      <td>제16대 국회의원(정당_17)정당_34\\r\\n</td>\n",
       "      <td>16대의원</td>\n",
       "      <td>김영구</td>\n",
       "      <td>金永求</td>\n",
       "      <td>NaN</td>\n",
       "      <td>虎岩</td>\n",
       "      <td>1941년 09월 12일</td>\n",
       "      <td>광산</td>\n",
       "      <td>전북 전주</td>\n",
       "      <td>전북대학교 농과대학\\r\\n충남대학교 행정대학원 최고관리자과정 수료\\r\\n전북대학교 ...</td>\n",
       "      <td>무교, 등산</td>\n",
       "      <td>높은산 푸른솔아(자서전)\\r\\n전북라이온스30년사\\r\\n전북새마을운동 25년사\\r\\...</td>\n",
       "      <td>대한청소년연맹 청소년공로상(대훈장)\\r\\n애향도민의장(새마을장)외 260여회 수상\\r\\n</td>\n",
       "      <td>년   월   일</td>\n",
       "      <td>http://www.rokps.or.kr/profile/profile_view.as...</td>\n",
       "      <td>1941</td>\n",
       "      <td>[정당_34]</td>\n",
       "      <td>정당_34</td>\n",
       "      <td>1</td>\n",
       "    </tr>\n",
       "    <tr>\n",
       "      <th>4519</th>\n",
       "      <td>5</td>\n",
       "      <td>제5대 국회의원(포천)민주당\\r\\n</td>\n",
       "      <td>5대의원</td>\n",
       "      <td>김영구</td>\n",
       "      <td>金永求</td>\n",
       "      <td>NaN</td>\n",
       "      <td>蕙村</td>\n",
       "      <td>1920년 12월 29일</td>\n",
       "      <td>언양</td>\n",
       "      <td>서울</td>\n",
       "      <td>제일고보(현 경기고)졸업\\r\\n일본복강학교 졸업\\r\\n일본 동경제대 법학부 정치학과...</td>\n",
       "      <td>천주교, 바둑, 독서</td>\n",
       "      <td>NaN</td>\n",
       "      <td>NaN</td>\n",
       "      <td>2007년 03월 20일</td>\n",
       "      <td>http://www.rokps.or.kr/profile/profile_view.as...</td>\n",
       "      <td>1920</td>\n",
       "      <td>[민주당]</td>\n",
       "      <td>민주당</td>\n",
       "      <td>1</td>\n",
       "    </tr>\n",
       "  </tbody>\n",
       "</table>\n",
       "</div>"
      ],
      "text/plain": [
       "      DAESU                                                DAE DAE_NM NAME  \\\n",
       "1612     16  제11대 국회의원(정당_17)정당_50\\r\\n제12대 국회의원(정당_17)정당_50...  16대의원  김영구   \n",
       "1613     16                          제16대 국회의원(정당_17)정당_34\\r\\n  16대의원  김영구   \n",
       "4519      5                                제5대 국회의원(포천)민주당\\r\\n   5대의원  김영구   \n",
       "\n",
       "     NAME_HAN   JA   HO          BIRTH  BON   POSI  \\\n",
       "1612      金榮龜  NaN  NaN  1940년 01월 12일  NaN    NaN   \n",
       "1613      金永求  NaN   虎岩  1941년 09월 12일   광산  전북 전주   \n",
       "4519      金永求  NaN   蕙村  1920년 12월 29일   언양     서울   \n",
       "\n",
       "                                                    HAK        HOBBY  \\\n",
       "1612  동국대학교경제과졸\\r\\n공화당청년분과위원장\\r\\n대한체육회역도연맹부회장\\r\\n4.1...          NaN   \n",
       "1613  전북대학교 농과대학\\r\\n충남대학교 행정대학원 최고관리자과정 수료\\r\\n전북대학교 ...       무교, 등산   \n",
       "4519  제일고보(현 경기고)졸업\\r\\n일본복강학교 졸업\\r\\n일본 동경제대 법학부 정치학과...  천주교, 바둑, 독서   \n",
       "\n",
       "                                                   BOOK  \\\n",
       "1612                                                NaN   \n",
       "1613  높은산 푸른솔아(자서전)\\r\\n전북라이온스30년사\\r\\n전북새마을운동 25년사\\r\\...   \n",
       "4519                                                NaN   \n",
       "\n",
       "                                                   SANG           DEAD  \\\n",
       "1612                                                NaN      년   월   일   \n",
       "1613  대한청소년연맹 청소년공로상(대훈장)\\r\\n애향도민의장(새마을장)외 260여회 수상\\r\\n      년   월   일   \n",
       "4519                                                NaN  2007년 03월 20일   \n",
       "\n",
       "                                                    URL BIRTH_YEAR  \\\n",
       "1612  http://www.rokps.or.kr/profile/profile_view.as...       1940   \n",
       "1613  http://www.rokps.or.kr/profile/profile_view.as...       1941   \n",
       "4519  http://www.rokps.or.kr/profile/profile_view.as...       1920   \n",
       "\n",
       "                                          PARTYS NOW_PARTY  NUM_PARTY  \n",
       "1612  [정당_50, 정당_50, 정당_50, 정당_28, 정당_31, 정당_34]     정당_34          4  \n",
       "1613                                     [정당_34]     정당_34          1  \n",
       "4519                                       [민주당]       민주당          1  "
      ]
     },
     "execution_count": 55,
     "metadata": {},
     "output_type": "execute_result"
    }
   ],
   "source": [
    "uni_people[uni_people['NAME'] == sample_name]"
   ]
  },
  {
   "cell_type": "markdown",
   "metadata": {},
   "source": [
    "### suggest"
   ]
  },
  {
   "cell_type": "code",
   "execution_count": null,
   "metadata": {},
   "outputs": [],
   "source": [
    "#제안자수 \n",
    "def find_num(x):\n",
    "    import re\n",
    "    pattern = re.compile('[0-9]+')\n",
    "    x = str(x)\n",
    "    num = re.findall(pattern,x)\n",
    "    try :\n",
    "        num = int(num[0])+1\n",
    "    except:\n",
    "        num = ''\n",
    "    return num\n",
    "suggest['PROPOSER_NUM'] = suggest['PROPOSER'].apply(lambda x : find_num(x))"
   ]
  },
  {
   "cell_type": "code",
   "execution_count": 70,
   "metadata": {
    "ExecuteTime": {
     "end_time": "2020-12-04T08:07:13.773217Z",
     "start_time": "2020-12-04T08:07:13.596196Z"
    }
   },
   "outputs": [
    {
     "data": {
      "image/png": "[encoded data removed]",
      "text/plain": [
       "<Figure size 432x288 with 1 Axes>"
      ]
     },
     "metadata": {
      "needs_background": "light"
     },
     "output_type": "display_data"
    }
   ],
   "source": [
    "#제안량이 가장 높았던건 20대 \n",
    "counted = suggest['AGE'].value_counts().sort_index()\n",
    "sns.barplot(x = counted.index, y= counted)\n",
    "plt.show()"
   ]
  },
  {
   "cell_type": "code",
   "execution_count": 77,
   "metadata": {
    "ExecuteTime": {
     "end_time": "2020-12-04T08:12:43.909632Z",
     "start_time": "2020-12-04T08:12:43.707587Z"
    }
   },
   "outputs": [
    {
     "data": {
      "image/png": "[encoded data removed]",
      "text/plain": [
       "<Figure size 432x288 with 1 Axes>"
      ]
     },
     "metadata": {
      "needs_background": "light"
     },
     "output_type": "display_data"
    }
   ],
   "source": [
    "#중복된 법률명을 제외하면 17~20대에서 큰 차이가 없음 (왜그랬을까? 고민해볼것 )\n",
    "suggest_uni = suggest.drop_duplicates([\"AGE\",'BILL_NAME'])\n",
    "counted = suggest_uni['AGE'].value_counts().sort_index()\n",
    "sns.barplot(x = counted.index, y= counted)\n",
    "plt.show()"
   ]
  },
  {
   "cell_type": "code",
   "execution_count": 81,
   "metadata": {
    "ExecuteTime": {
     "end_time": "2020-12-04T08:15:50.458342Z",
     "start_time": "2020-12-04T08:15:50.446339Z"
    }
   },
   "outputs": [
    {
     "data": {
      "text/plain": [
       "7155"
      ]
     },
     "execution_count": 81,
     "metadata": {},
     "output_type": "execute_result"
    }
   ],
   "source": [
    "#법률안을 7155개 -> 카테고리화가 가능하면 좋을듯\n",
    "suggest['BILL_NAME'].nunique()"
   ]
  },
  {
   "cell_type": "code",
   "execution_count": 119,
   "metadata": {
    "ExecuteTime": {
     "end_time": "2020-12-04T08:35:13.239085Z",
     "start_time": "2020-12-04T08:35:13.090051Z"
    }
   },
   "outputs": [],
   "source": []
  },
  {
   "cell_type": "code",
   "execution_count": 28,
   "metadata": {
    "ExecuteTime": {
     "end_time": "2020-12-04T06:28:37.379191Z",
     "start_time": "2020-12-04T06:28:37.369189Z"
    }
   },
   "outputs": [
    {
     "data": {
      "text/plain": [
       "이명수    855\n",
       "황주홍    835\n",
       "강창일    500\n",
       "오제세    463\n",
       "김우남    457\n",
       "이찬열    455\n",
       "박광온    452\n",
       "주승용    425\n",
       "양승조    419\n",
       "심재철    339\n",
       "Name: RST_PROPOSER, dtype: int64"
      ]
     },
     "execution_count": 28,
     "metadata": {},
     "output_type": "execute_result"
    }
   ],
   "source": [
    "#가장 제안을 많이한 의원은? (동명이인 배제)\n",
    "suggest['RST_PROPOSER'].value_counts().head(10)"
   ]
  },
  {
   "cell_type": "code",
   "execution_count": null,
   "metadata": {},
   "outputs": [],
   "source": []
  },
  {
   "cell_type": "code",
   "execution_count": 23,
   "metadata": {
    "ExecuteTime": {
     "end_time": "2020-12-04T06:24:05.720251Z",
     "start_time": "2020-12-04T06:24:05.710249Z"
    }
   },
   "outputs": [
    {
     "data": {
      "text/plain": [
       "법제사법위원회            5598\n",
       "보건복지위원회            5372\n",
       "환경노동위원회            4124\n",
       "행정안전위원회            3829\n",
       "기획재정위원회            3522\n",
       "정무위원회              3370\n",
       "국토교통위원회            2766\n",
       "국회운영위원회            2656\n",
       "재정경제위원회            2413\n",
       "농림축산식품해양수산위원회      2068\n",
       "안전행정위원회            1867\n",
       "본회의                1748\n",
       "국방위원회              1659\n",
       "교육문화체육관광위원회        1524\n",
       "행정자치위원회            1493\n",
       "교육위원회              1477\n",
       "산업통상자원중소벤처기업위원회    1102\n",
       "국토해양위원회            1069\n",
       "건설교통위원회             982\n",
       "내무위원회               947\n",
       "과학기술정보방송통신위원회       846\n",
       "외교통일위원회             729\n",
       "재무위원회               726\n",
       "산업통상자원위원회           723\n",
       "농림해양수산위원회           721\n",
       "여성가족위원회             721\n",
       "문화체육관광위원회           715\n",
       "산업자원위원회             681\n",
       "교육과학기술위원회           661\n",
       "문화관광위원회             599\n",
       "Name: COMMITTEE_NM, dtype: int64"
      ]
     },
     "execution_count": 23,
     "metadata": {},
     "output_type": "execute_result"
    }
   ],
   "source": [
    "process['COMMITTEE_NM'].value_counts().head(30)"
   ]
  },
  {
   "cell_type": "code",
   "execution_count": null,
   "metadata": {},
   "outputs": [],
   "source": []
  }
 ],
 "metadata": {
  "kernelspec": {
   "display_name": "Python 3",
   "language": "python",
   "name": "python3"
  },
  "language_info": {
   "codemirror_mode": {
    "name": "ipython",
    "version": 3
   },
   "file_extension": ".py",
   "mimetype": "text/x-python",
   "name": "python",
   "nbconvert_exporter": "python",
   "pygments_lexer": "ipython3",
   "version": "3.6.5"
  },
  "toc": {
   "base_numbering": 1,
   "nav_menu": {},
   "number_sections": true,
   "sideBar": true,
   "skip_h1_title": false,
   "title_cell": "Table of Contents",
   "title_sidebar": "Contents",
   "toc_cell": false,
   "toc_position": {},
   "toc_section_display": true,
   "toc_window_display": true
  },
  "varInspector": {
   "cols": {
    "lenName": 16,
    "lenType": 16,
    "lenVar": 40
   },
   "kernels_config": {
    "python": {
     "delete_cmd_postfix": "",
     "delete_cmd_prefix": "del ",
     "library": "var_list.py",
     "varRefreshCmd": "print(var_dic_list())"
    },
    "r": {
     "delete_cmd_postfix": ") ",
     "delete_cmd_prefix": "rm(",
     "library": "var_list.r",
     "varRefreshCmd": "cat(var_dic_list()) "
    }
   },
   "types_to_exclude": [
    "module",
    "function",
    "builtin_function_or_method",
    "instance",
    "_Feature"
   ],
   "window_display": false
  }
 },
 "nbformat": 4,
 "nbformat_minor": 2
}
